{
 "cells": [
  {
   "cell_type": "code",
   "execution_count": 2,
   "id": "caf8a3db-a22b-4187-a6e4-08d57a3000b0",
   "metadata": {},
   "outputs": [],
   "source": [
    "from jupyter_dash import JupyterDash\n",
    "from dash import dcc, html, Input, Output\n",
    "import yfinance as yf \n",
    "import plotly.express as px\n",
    "import numpy as np\n",
    "import plotly.io as pio\n",
    "import pyvista as pv\n"
   ]
  },
  {
   "cell_type": "code",
   "execution_count": 6,
   "id": "3a3b4055-545a-42ff-a76e-2351085637fa",
   "metadata": {},
   "outputs": [],
   "source": [
    "app = JupyterDash(__name__)\n",
    "\n",
    "filename = \"/home/cbyers/Projects/OpenFOAM/case_files/breeder_unit5/foam.foam\"\n",
    "reader = pv.OpenFOAMReader(filename)"
   ]
  },
  {
   "cell_type": "code",
   "execution_count": null,
   "id": "62332a49",
   "metadata": {},
   "outputs": [],
   "source": [
    "mesh = reader.read()\n",
    "internal_mesh = mesh[\"internalMesh\"]\n",
    "boundaries = mesh[\"boundary\"]"
   ]
  },
  {
   "cell_type": "code",
   "execution_count": null,
   "id": "d33beead-990e-412b-9d2c-05b32f9acbcb",
   "metadata": {},
   "outputs": [],
   "source": [
    "\n",
    "# Create sample data for visualization \n",
    "#mesh = pv.Sphere()\n",
    "\n",
    "# Create a function to generate a PyVista plot and save it as an HTML file\n",
    "def create_pyvista_plot():\n",
    "    plotter = pv.Plotter(notebook=True)\n",
    "    plotter.add_mesh(mesh, color='lightblue', show_edges=True)\n",
    "    plotter.view_isometric()\n",
    "    plotter.show()\n",
    "    plotter.export_html('plot.html')  # Export to an HTML file"
   ]
  },
  {
   "cell_type": "code",
   "execution_count": 4,
   "id": "1b9ecc50-06ec-490a-965f-f7d7da71477e",
   "metadata": {},
   "outputs": [],
   "source": [
    "app.layout = html.Div([\n",
    "    html.H1(\"PyVista in Dash\"),\n",
    "    #dcc.Graph(id='3d-plot')\n",
    "     html.Iframe(src='plot.html', style={'width': '100%', 'height': '600px'})  # Embed the HTML file\n",
    "])\n"
   ]
  },
  {
   "cell_type": "code",
   "execution_count": 5,
   "id": "ddf1e3a9-84e8-40f5-ac35-e4b8cb6ca15c",
   "metadata": {},
   "outputs": [],
   "source": [
    "#@app.callback(\n",
    "#    Output('3d-plot', 'figure'),\n",
    "#    [Input('3d-plot', 'id')]\n",
    "#)\n",
    "\n",
    "#def update_graph(_):\n",
    "    # Get the plot as an HTML string\n",
    " #   plotter = create_pyvista_plot()\n",
    "  #  return plotter.show()\n"
   ]
  },
  {
   "cell_type": "code",
   "execution_count": 5,
   "id": "ba52c8f5-720c-4956-ad25-4f99894d2df6",
   "metadata": {},
   "outputs": [
    {
     "data": {
      "text/html": [
       "\n",
       "        <iframe\n",
       "            width=\"100%\"\n",
       "            height=\"650\"\n",
       "            src=\"http://127.0.0.1:8050/\"\n",
       "            frameborder=\"0\"\n",
       "            allowfullscreen\n",
       "            \n",
       "        ></iframe>\n",
       "        "
      ],
      "text/plain": [
       "<IPython.lib.display.IFrame at 0x7ec462046560>"
      ]
     },
     "metadata": {},
     "output_type": "display_data"
    },
    {
     "data": {
      "text/html": [
       "\n",
       "        <iframe\n",
       "            width=\"100%\"\n",
       "            height=\"650\"\n",
       "            src=\"http://127.0.0.1:8050/\"\n",
       "            frameborder=\"0\"\n",
       "            allowfullscreen\n",
       "            \n",
       "        ></iframe>\n",
       "        "
      ],
      "text/plain": [
       "<IPython.lib.display.IFrame at 0x7ec4aff97d00>"
      ]
     },
     "metadata": {},
     "output_type": "display_data"
    }
   ],
   "source": [
    "if __name__ == '__main__':\n",
    "\t#app.run_server(port=8050, mode='external')\n",
    "    app.run_server(mode='inline')\n"
   ]
  },
  {
   "cell_type": "code",
   "execution_count": null,
   "id": "be960c93-72e4-40b9-af3b-a3671816184c",
   "metadata": {},
   "outputs": [],
   "source": []
  }
 ],
 "metadata": {
  "kernelspec": {
   "display_name": "dash_env",
   "language": "python",
   "name": "python3"
  },
  "language_info": {
   "codemirror_mode": {
    "name": "ipython",
    "version": 3
   },
   "file_extension": ".py",
   "mimetype": "text/x-python",
   "name": "python",
   "nbconvert_exporter": "python",
   "pygments_lexer": "ipython3",
   "version": "3.10.12"
  }
 },
 "nbformat": 4,
 "nbformat_minor": 5
}
