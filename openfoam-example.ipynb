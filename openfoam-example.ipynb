{
 "cells": [
  {
   "cell_type": "code",
   "execution_count": 1,
   "metadata": {
    "collapsed": false,
    "jupyter": {
     "outputs_hidden": false
    }
   },
   "outputs": [],
   "source": [
    "%matplotlib inline"
   ]
  },
  {
   "cell_type": "markdown",
   "metadata": {},
   "source": [
    "Plot OpenFOAM data {#openfoam_example}\n",
    "==================\n"
   ]
  },
  {
   "cell_type": "code",
   "execution_count": 15,
   "metadata": {
    "collapsed": false,
    "jupyter": {
     "outputs_hidden": false
    }
   },
   "outputs": [],
   "source": [
    "from __future__ import annotations\n",
    "\n",
    "import pyvista\n",
    "from pyvista import examples\n",
    "import os\n",
    "import random\n",
    "import dash\n",
    "from dash import dcc, html\n",
    "from dash.dependencies import Input, Output\n"
   ]
  },
  {
   "cell_type": "markdown",
   "metadata": {},
   "source": [
    "This example uses data from a lid-driven cavity flow. It is recommended\n",
    "to use `pyvista.POpenFOAMReader`{.interpreted-text role=\"class\"} for\n",
    "reading OpenFOAM files for more control over reading data.\n",
    "\n",
    "This example will only run correctly in versions of vtk\\>=9.1.0. The\n",
    "names of the patch arrays and resulting keys in the read mesh will be\n",
    "different in prior versions.\n"
   ]
  },
  {
   "cell_type": "code",
   "execution_count": 3,
   "metadata": {
    "collapsed": false,
    "jupyter": {
     "outputs_hidden": false
    }
   },
   "outputs": [
    {
     "name": "stdout",
     "output_type": "stream",
     "text": [
      "/home/cbyers/Projects/Cranfield/AdaptiveVis\n"
     ]
    }
   ],
   "source": [
    "print(os.getcwd())\n",
    "#filename = examples.download_cavity(load=False)\n",
    "\n",
    "filename = \"/home/cbyers/Projects/OpenFOAM/case_files/breeder_unit5/foam.foam\"\n",
    "reader = pyvista.OpenFOAMReader(filename)"
   ]
  },
  {
   "cell_type": "markdown",
   "metadata": {},
   "source": [
    "OpenFOAM datasets include multiple sub-datasets including the internal\n",
    "mesh and patches, typically boundaries. This can be inspected before\n",
    "reading the data.\n"
   ]
  },
  {
   "cell_type": "code",
   "execution_count": 4,
   "metadata": {
    "collapsed": false,
    "jupyter": {
     "outputs_hidden": false
    }
   },
   "outputs": [
    {
     "name": "stdout",
     "output_type": "stream",
     "text": [
      "All patch names: ['internalMesh', 'group/wall', 'patch/walls', 'patch/inlet', 'patch/outlet']\n",
      "All patch status: {'internalMesh': True, 'group/wall': True, 'patch/walls': True, 'patch/inlet': True, 'patch/outlet': True}\n",
      "All reader methods: ['__class__', '__delattr__', '__dir__', '__eq__', '__format__', '__ge__', '__getattribute__', '__gt__', '__hash__', '__init__', '__init_subclass__', '__le__', '__lt__', '__ne__', '__new__', '__reduce__', '__reduce_ex__', '__repr__', '__setattr__', '__sizeof__', '__str__', '__subclasshook__', '_set_defaults', '_set_defaults_post', '_set_directory', '_set_filename', '_update_information', 'cell_array_status', 'disable_all_cell_arrays', 'disable_all_patch_arrays', 'disable_all_point_arrays', 'disable_cell_array', 'disable_patch_array', 'disable_point_array', 'enable_all_cell_arrays', 'enable_all_patch_arrays', 'enable_all_point_arrays', 'enable_cell_array', 'enable_patch_array', 'enable_point_array', 'hide_progress', 'patch_array_status', 'point_array_status', 'read', 'set_active_time_point', 'set_active_time_value', 'show_progress', 'time_point_value']\n"
     ]
    }
   ],
   "source": [
    "print(f\"All patch names: {reader.patch_array_names}\")\n",
    "print(f\"All patch status: {reader.all_patch_arrays_status}\")\n",
    "\n",
    "object_methods = [method_name for method_name in dir(reader)\n",
    "                  if callable(getattr(reader, method_name))]\n",
    "\n",
    "print(f\"All reader methods: {object_methods}\")"
   ]
  },
  {
   "cell_type": "markdown",
   "metadata": {},
   "source": [
    "This data is represented as a `pyvista.MultiBlock`{.interpreted-text\n",
    "role=\"class\"} object. The internal mesh will be located in the top-level\n",
    "MultiBlock mesh.\n"
   ]
  },
  {
   "cell_type": "code",
   "execution_count": 5,
   "metadata": {
    "collapsed": false,
    "jupyter": {
     "outputs_hidden": false
    }
   },
   "outputs": [
    {
     "name": "stdout",
     "output_type": "stream",
     "text": [
      "<bound method PointCellDataSelection.cell_array_status of OpenFOAMReader('/home/cbyers/Projects/OpenFOAM/case_files/breeder_unit5/foam.foam')>\n",
      "Mesh patches: ['internalMesh', 'boundary']\n"
     ]
    }
   ],
   "source": [
    "mesh = reader.read()\n",
    "print(reader.cell_array_status)\n",
    "print(f\"Mesh patches: {mesh.keys()}\")\n",
    "internal_mesh = mesh[\"internalMesh\"]  # or internal_mesh = mesh[0]\n"
   ]
  },
  {
   "cell_type": "code",
   "execution_count": 6,
   "metadata": {},
   "outputs": [
    {
     "name": "stdout",
     "output_type": "stream",
     "text": [
      "['U', 'k', 'nut', 'omega', 'p']\n"
     ]
    }
   ],
   "source": [
    "print(internal_mesh.cell_data.keys())\n",
    "\n",
    "#struct_mesh = internalmesh.cast_to_explicit_structured_grid()"
   ]
  },
  {
   "cell_type": "markdown",
   "metadata": {},
   "source": [
    "In this case the internal mesh is a\n",
    "`pyvista.UnstructuredGrid`{.interpreted-text role=\"class\"}.\n"
   ]
  },
  {
   "cell_type": "markdown",
   "metadata": {},
   "source": [
    "Additional Patch meshes are nested inside another MultiBlock mesh. The\n",
    "name of the sub-level MultiBlock mesh depends on the vtk version.\n"
   ]
  },
  {
   "cell_type": "code",
   "execution_count": 7,
   "metadata": {
    "collapsed": false,
    "jupyter": {
     "outputs_hidden": false
    }
   },
   "outputs": [
    {
     "name": "stdout",
     "output_type": "stream",
     "text": [
      "MultiBlock (0x75d2191f6320)\n",
      "  N Blocks    3\n",
      "  X Bounds    -39.000, 39.000\n",
      "  Y Bounds    -38.999, 39.000\n",
      "  Z Bounds    -520.000, -1.000\n",
      "Boundaries patches: ['walls', 'inlet', 'outlet']\n",
      "PolyData (0x75d2191f62c0)\n",
      "  N Cells:    466117\n",
      "  N Points:   233923\n",
      "  N Strips:   0\n",
      "  X Bounds:   -3.900e+01, 3.900e+01\n",
      "  Y Bounds:   -3.900e+01, 3.900e+01\n",
      "  Z Bounds:   -5.200e+02, -1.000e+00\n",
      "  N Arrays:   10\n",
      "PolyData (0x75d2191f62c0)\n",
      "  N Cells:    618\n",
      "  N Points:   460\n",
      "  N Strips:   0\n",
      "  X Bounds:   -7.984e+00, 7.984e+00\n",
      "  Y Bounds:   -8.000e+00, 8.000e+00\n",
      "  Z Bounds:   -5.200e+02, -5.200e+02\n",
      "  N Arrays:   10\n",
      "PolyData (0x75d2191f62c0)\n",
      "  N Cells:    4520\n",
      "  N Points:   3616\n",
      "  N Strips:   0\n",
      "  X Bounds:   -3.900e+01, 3.900e+01\n",
      "  Y Bounds:   -3.900e+01, 3.900e+01\n",
      "  Z Bounds:   -4.000e+02, -4.000e+02\n",
      "  N Arrays:   10\n"
     ]
    }
   ],
   "source": [
    "boundaries = mesh[\"boundary\"]\n",
    "print(boundaries)\n",
    "print(f\"Boundaries patches: {boundaries.keys()}\")\n",
    "print(boundaries[\"walls\"])\n",
    "print(boundaries[\"inlet\"])\n",
    "print(boundaries[\"outlet\"])"
   ]
  },
  {
   "cell_type": "markdown",
   "metadata": {},
   "source": [
    "The default in OpenFOAMReader is to translate the existing cell data to\n",
    "point data. Therefore, the cell data arrays are duplicated in point\n",
    "data.\n"
   ]
  },
  {
   "cell_type": "code",
   "execution_count": 8,
   "metadata": {
    "collapsed": false,
    "jupyter": {
     "outputs_hidden": false
    }
   },
   "outputs": [
    {
     "name": "stdout",
     "output_type": "stream",
     "text": [
      "Cell Data:\n",
      "pyvista DataSetAttributes\n",
      "Association     : CELL\n",
      "Active Scalars  : p\n",
      "Active Vectors  : U\n",
      "Active Texture  : None\n",
      "Active Normals  : None\n",
      "Contains arrays :\n",
      "    U                       float32    (6677390, 3)         VECTORS\n",
      "    k                       float32    (6677390,)\n",
      "    nut                     float32    (6677390,)\n",
      "    omega                   float32    (6677390,)\n",
      "    p                       float32    (6677390,)           SCALARS\n",
      "\n",
      "Point Data:\n",
      "pyvista DataSetAttributes\n",
      "Association     : POINT\n",
      "Active Scalars  : p\n",
      "Active Vectors  : U\n",
      "Active Texture  : None\n",
      "Active Normals  : None\n",
      "Contains arrays :\n",
      "    U                       float32    (1991088, 3)         VECTORS\n",
      "    k                       float32    (1991088,)\n",
      "    nut                     float32    (1991088,)\n",
      "    omega                   float32    (1991088,)\n",
      "    p                       float32    (1991088,)           SCALARS\n"
     ]
    }
   ],
   "source": [
    "print(\"Cell Data:\")\n",
    "print(internal_mesh.cell_data)\n",
    "print(\"\\nPoint Data:\")\n",
    "print(internal_mesh.point_data)"
   ]
  },
  {
   "cell_type": "markdown",
   "metadata": {},
   "source": [
    "This behavior can be turned off if only cell data is required.\n"
   ]
  },
  {
   "cell_type": "code",
   "execution_count": 9,
   "metadata": {
    "collapsed": false,
    "jupyter": {
     "outputs_hidden": false
    }
   },
   "outputs": [
    {
     "name": "stdout",
     "output_type": "stream",
     "text": [
      "Cell Data:\n",
      "pyvista DataSetAttributes\n",
      "Association     : CELL\n",
      "Active Scalars  : p\n",
      "Active Vectors  : U\n",
      "Active Texture  : None\n",
      "Active Normals  : None\n",
      "Contains arrays :\n",
      "    U                       float32    (6677390, 3)         VECTORS\n",
      "    k                       float32    (6677390,)\n",
      "    nut                     float32    (6677390,)\n",
      "    omega                   float32    (6677390,)\n",
      "    p                       float32    (6677390,)           SCALARS\n",
      "\n",
      "Point Data:\n",
      "pyvista DataSetAttributes\n",
      "Association     : POINT\n",
      "Active Scalars  : None\n",
      "Active Vectors  : None\n",
      "Active Texture  : None\n",
      "Active Normals  : None\n",
      "Contains arrays : None\n"
     ]
    }
   ],
   "source": [
    "reader.cell_to_point_creation = False\n",
    "internal_mesh = reader.read()[\"internalMesh\"]\n",
    "print(\"Cell Data:\")\n",
    "print(internal_mesh.cell_data)\n",
    "print(\"\\nPoint Data:\")\n",
    "\n",
    "print(internal_mesh.point_data)"
   ]
  },
  {
   "cell_type": "markdown",
   "metadata": {},
   "source": [
    "Now we will read in all the data at the last time point.\n"
   ]
  },
  {
   "cell_type": "code",
   "execution_count": 10,
   "metadata": {
    "collapsed": false,
    "jupyter": {
     "outputs_hidden": false
    }
   },
   "outputs": [
    {
     "name": "stdout",
     "output_type": "stream",
     "text": [
      "Available Time Values: [0.0, 100.0, 200.0, 300.0, 400.0, 500.0, 600.0, 700.0, 800.0, 900.0, 1000.0]\n"
     ]
    }
   ],
   "source": [
    "print(f\"Available Time Values: {reader.time_values}\")\n",
    "reader.set_active_time_value(1000.0)\n",
    "reader.cell_to_point_creation = True  # Need point data for streamlines\n",
    "mesh = reader.read()\n",
    "internal_mesh = mesh[\"internalMesh\"]\n",
    "boundaries = mesh[\"boundary\"]"
   ]
  },
  {
   "cell_type": "code",
   "execution_count": 16,
   "metadata": {},
   "outputs": [],
   "source": [
    "# Initialize the Dash app\n",
    "app = dash.Dash(__name__)"
   ]
  },
  {
   "cell_type": "code",
   "execution_count": 19,
   "metadata": {},
   "outputs": [],
   "source": [
    "# Create a function to generate a PyVista plot and save it as an HTML file\n",
    "def create_pyvista_plot():\n",
    "    plotter = pv.Plotter(notebook=True)\n",
    "    plotter.add_mesh(mesh, scalars=\"p\")\n",
    "    plotter.view_isometric()\n",
    "    plotter.show()\n",
    "    plotter.export_html('plot.html')  # Export to an HTML file"
   ]
  },
  {
   "cell_type": "code",
   "execution_count": 20,
   "metadata": {},
   "outputs": [],
   "source": [
    "app.layout = html.Div([\n",
    "    html.H1(\"PyVista in Dash\"),\n",
    "    #dcc.Graph(id='3d-plot')\n",
    "     html.Iframe(src='plot.html', style={'width': '100%', 'height': '600px'})  # Embed the HTML file\n",
    "])"
   ]
  },
  {
   "cell_type": "code",
   "execution_count": 21,
   "metadata": {},
   "outputs": [
    {
     "data": {
      "text/html": [
       "\n",
       "        <iframe\n",
       "            width=\"100%\"\n",
       "            height=\"650\"\n",
       "            src=\"http://127.0.0.1:8050/\"\n",
       "            frameborder=\"0\"\n",
       "            allowfullscreen\n",
       "            \n",
       "        ></iframe>\n",
       "        "
      ],
      "text/plain": [
       "<IPython.lib.display.IFrame at 0x75d21637fd90>"
      ]
     },
     "metadata": {},
     "output_type": "display_data"
    }
   ],
   "source": [
    "if __name__ == '__main__':\n",
    "\t#app.run_server(port=8050, mode='external')\n",
    "    app.run_server(debug=True)"
   ]
  },
  {
   "cell_type": "code",
   "execution_count": 18,
   "metadata": {
    "collapsed": false,
    "jupyter": {
     "outputs_hidden": false
    }
   },
   "outputs": [
    {
     "data": {
      "application/vnd.jupyter.widget-view+json": {
       "model_id": "5f61ff0579324755b8ea9774d7600bbb",
       "version_major": 2,
       "version_minor": 0
      },
      "text/plain": [
       "Widget(value='<iframe src=\"http://localhost:40247/index.html?ui=P_0x75d25c6613f0_0&reconnect=auto\" class=\"pyvi…"
      ]
     },
     "metadata": {},
     "output_type": "display_data"
    }
   ],
   "source": [
    "plotter = pyvista.Plotter()\n",
    "plotter.add_mesh(mesh, scalars=\"p\", cmap='viridis')\n",
    "plotter.view_isometric()\n",
    "plotter.show()"
   ]
  },
  {
   "cell_type": "code",
   "execution_count": null,
   "metadata": {},
   "outputs": [],
   "source": []
  }
 ],
 "metadata": {
  "kernelspec": {
   "display_name": "Python 3 (ipykernel)",
   "language": "python",
   "name": "python3"
  },
  "language_info": {
   "codemirror_mode": {
    "name": "ipython",
    "version": 3
   },
   "file_extension": ".py",
   "mimetype": "text/x-python",
   "name": "python",
   "nbconvert_exporter": "python",
   "pygments_lexer": "ipython3",
   "version": "3.10.12"
  }
 },
 "nbformat": 4,
 "nbformat_minor": 4
}
