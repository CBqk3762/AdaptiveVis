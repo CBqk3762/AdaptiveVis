{
 "cells": [
  {
   "cell_type": "code",
   "execution_count": 1,
   "metadata": {
    "collapsed": false,
    "jupyter": {
     "outputs_hidden": false
    }
   },
   "outputs": [],
   "source": [
    "%matplotlib inline"
   ]
  },
  {
   "cell_type": "markdown",
   "metadata": {},
   "source": [
    "Electronics Cooling CFD {#openfoam_cooling_example}\n",
    "=======================\n",
    "\n",
    "Plot an electronics cooling CFD example from OpenFoam hosted on the\n",
    "public SimScale examples at [SimScale Project\n",
    "Library](https://www.simscale.com/projects/) and generated from the\n",
    "[Thermal Management Tutorial: CHT Analysis of an Electronics\n",
    "Box](https://www.simscale.com/docs/tutorials/thermal-management-cht-analysis-electronics-box/).\n",
    "\n",
    "This example dataset was read using the\n",
    "`pyvista.POpenFOAMReader`{.interpreted-text role=\"class\"} and post\n",
    "processed according to this\n",
    "[README.md](https://github.com/pyvista/vtk-data/blob/master/Data/fvm/cooling_electronics/README.md).\n"
   ]
  },
  {
   "cell_type": "code",
   "execution_count": 2,
   "metadata": {
    "collapsed": false,
    "jupyter": {
     "outputs_hidden": false
    }
   },
   "outputs": [],
   "source": [
    "from __future__ import annotations\n",
    "\n",
    "import numpy as np\n",
    "\n",
    "import pyvista as pv\n",
    "from pyvista import examples"
   ]
  },
  {
   "cell_type": "markdown",
   "metadata": {},
   "source": [
    "Load the Datasets\n",
    "=================\n",
    "\n",
    "Download and load the datasets.\n",
    "\n",
    "The `structure` dataset consists of a box with several components, being\n",
    "cooled down by a fan, while the `air` dataset is the air, containing\n",
    "several scalar arrays including the velocity and temperature of the air.\n"
   ]
  },
  {
   "cell_type": "code",
   "execution_count": 3,
   "metadata": {
    "collapsed": false,
    "jupyter": {
     "outputs_hidden": false
    }
   },
   "outputs": [
    {
     "data": {
      "text/plain": [
       "(PolyData (0x75839147de40)\n",
       "   N Cells:    344270\n",
       "   N Points:   187992\n",
       "   N Strips:   0\n",
       "   X Bounds:   -3.000e-03, 1.530e-01\n",
       "   Y Bounds:   -3.000e-03, 2.030e-01\n",
       "   Z Bounds:   -9.000e-03, 4.200e-02\n",
       "   N Arrays:   4,\n",
       " UnstructuredGrid (0x75839147da20)\n",
       "   N Cells:    1749992\n",
       "   N Points:   610176\n",
       "   X Bounds:   -1.388e-18, 1.500e-01\n",
       "   Y Bounds:   -3.000e-03, 2.030e-01\n",
       "   Z Bounds:   -6.000e-03, 4.400e-02\n",
       "   N Arrays:   10)"
      ]
     },
     "execution_count": 3,
     "metadata": {},
     "output_type": "execute_result"
    }
   ],
   "source": [
    "structure, air = examples.download_electronics_cooling()\n",
    "structure, air"
   ]
  },
  {
   "cell_type": "markdown",
   "metadata": {},
   "source": [
    "Plot the Electronics\n",
    "====================\n",
    "\n",
    "Here we plot the temperature of the electronics using the `\"reds\"`\n",
    "colormap and improve the look of the plot using surface space ambient\n",
    "occlusion with\n",
    "`enable_ssao() <pyvista.Plotter.enable_ssao>`{.interpreted-text\n",
    "role=\"func\"}.\n"
   ]
  },
  {
   "cell_type": "code",
   "execution_count": 9,
   "metadata": {
    "collapsed": false,
    "jupyter": {
     "outputs_hidden": false
    }
   },
   "outputs": [
    {
     "data": {
      "application/vnd.jupyter.widget-view+json": {
       "model_id": "b3bc5ea3c5274b079487e0fcb82b1cb5",
       "version_major": 2,
       "version_minor": 0
      },
      "text/plain": [
       "Widget(value='<iframe src=\"http://localhost:36455/index.html?ui=P_0x7582c40ce920_5&reconnect=auto\" class=\"pyvi…"
      ]
     },
     "metadata": {},
     "output_type": "display_data"
    }
   ],
   "source": [
    "pl = pv.Plotter()\n",
    "pl.enable_ssao(radius=0.01)\n",
    "pl.add_mesh(\n",
    "    structure,\n",
    "    scalars='T',\n",
    "    smooth_shading=True,\n",
    "    split_sharp_edges=True,\n",
    "    cmap='reds',\n",
    "    ambient=0.2,\n",
    ")\n",
    "pl.enable_anti_aliasing('fxaa')  # also try 'ssaa'\n",
    "pl.show()"
   ]
  },
  {
   "cell_type": "markdown",
   "metadata": {},
   "source": [
    "Plot Air Velocity\n",
    "=================\n",
    "\n",
    "Let\\'s plot the velocity of the air.\n",
    "\n",
    "Start by clipping the air dataset with `clip()\n",
    "<pyvista.DataSetFilters.clip>`{.interpreted-text role=\"func\"} and\n",
    "plotting it alongside the electronics.\n",
    "\n",
    "As you can see, the air enters from the front of the case (left) and is\n",
    "being pushed out of the \\\"back\\\" of the case via a fan.\n"
   ]
  },
  {
   "cell_type": "code",
   "execution_count": 5,
   "metadata": {
    "collapsed": false,
    "jupyter": {
     "outputs_hidden": false
    }
   },
   "outputs": [
    {
     "data": {
      "application/vnd.jupyter.widget-view+json": {
       "model_id": "92e034b1665b47229841fcea9fa3fb04",
       "version_major": 2,
       "version_minor": 0
      },
      "text/plain": [
       "Widget(value='<iframe src=\"http://localhost:36455/index.html?ui=P_0x75839149c6d0_1&reconnect=auto\" class=\"pyvi…"
      ]
     },
     "metadata": {},
     "output_type": "display_data"
    }
   ],
   "source": [
    "# Clip the air in the XY plane\n",
    "z_slice = air.clip('z', value=-0.005)\n",
    "\n",
    "# Plot it\n",
    "pl = pv.Plotter()\n",
    "pl.enable_ssao(radius=0.01)\n",
    "pl.add_mesh(z_slice, scalars='U', lighting=False, scalar_bar_args={'title': 'Velocity'})\n",
    "pl.add_mesh(structure, color='w', smooth_shading=True, split_sharp_edges=True)\n",
    "pl.camera_position = 'xy'\n",
    "pl.camera.roll = 90\n",
    "pl.enable_anti_aliasing('fxaa')\n",
    "pl.show()"
   ]
  },
  {
   "cell_type": "markdown",
   "metadata": {},
   "source": [
    "Plot Air Temperature\n",
    "====================\n",
    "\n",
    "Let\\'s also plot the temperature of the air. This time, let\\'s also plot\n",
    "the temperature of the components.\n"
   ]
  },
  {
   "cell_type": "code",
   "execution_count": 6,
   "metadata": {
    "collapsed": false,
    "jupyter": {
     "outputs_hidden": false
    }
   },
   "outputs": [
    {
     "data": {
      "application/vnd.jupyter.widget-view+json": {
       "model_id": "a46b869be9954aa6aefcfb36efc6d8f2",
       "version_major": 2,
       "version_minor": 0
      },
      "text/plain": [
       "Widget(value='<iframe src=\"http://localhost:36455/index.html?ui=P_0x75838656fdf0_2&reconnect=auto\" class=\"pyvi…"
      ]
     },
     "metadata": {},
     "output_type": "display_data"
    }
   ],
   "source": [
    "pl = pv.Plotter()\n",
    "pl.enable_ssao(radius=0.01)\n",
    "pl.add_mesh(\n",
    "    z_slice,\n",
    "    scalars='T',\n",
    "    lighting=False,\n",
    "    scalar_bar_args={'title': 'Temperature'},\n",
    "    cmap='reds',\n",
    ")\n",
    "pl.add_mesh(\n",
    "    structure,\n",
    "    scalars='T',\n",
    "    smooth_shading=True,\n",
    "    split_sharp_edges=True,\n",
    "    cmap='reds',\n",
    "    show_scalar_bar=False,\n",
    ")\n",
    "pl.camera_position = 'xy'\n",
    "pl.camera.roll = 90\n",
    "pl.enable_anti_aliasing('fxaa')\n",
    "pl.show()"
   ]
  },
  {
   "cell_type": "markdown",
   "metadata": {},
   "source": [
    "Plot Streamlines - Flow Velocity\n",
    "================================\n",
    "\n",
    "Now, let\\'s plot the streamlines of this dataset so we can see how the\n",
    "air is flowing through the case.\n",
    "\n",
    "Generate streamlines using `streamlines_from_source()\n",
    "<pyvista.DataSetFilters.streamlines_from_source>`{.interpreted-text\n",
    "role=\"func\"}.\n"
   ]
  },
  {
   "cell_type": "code",
   "execution_count": 7,
   "metadata": {
    "collapsed": false,
    "jupyter": {
     "outputs_hidden": false
    }
   },
   "outputs": [
    {
     "data": {
      "application/vnd.jupyter.widget-view+json": {
       "model_id": "e31000a052d24dfcb1a2545569843182",
       "version_major": 2,
       "version_minor": 0
      },
      "text/plain": [
       "Widget(value='<iframe src=\"http://localhost:36455/index.html?ui=P_0x7583598822c0_3&reconnect=auto\" class=\"pyvi…"
      ]
     },
     "metadata": {},
     "output_type": "display_data"
    }
   ],
   "source": [
    "# Have our streamlines start from the regular openings of the case.\n",
    "points = []\n",
    "for x in np.linspace(0.045, 0.105, 7, endpoint=True):\n",
    "    points.extend([x, 0.2, z] for z in np.linspace(0, 0.03, 5))\n",
    "points = pv.PointSet(points)\n",
    "lines = air.streamlines_from_source(points, max_time=2.0)\n",
    "\n",
    "# Plot\n",
    "pl = pv.Plotter()\n",
    "pl.enable_ssao(radius=0.01)\n",
    "pl.add_mesh(lines, line_width=2, scalars='T', cmap='reds', scalar_bar_args={'title': 'Temperature'})\n",
    "pl.add_mesh(\n",
    "    structure,\n",
    "    scalars='T',\n",
    "    smooth_shading=True,\n",
    "    split_sharp_edges=True,\n",
    "    cmap='reds',\n",
    "    show_scalar_bar=False,\n",
    ")\n",
    "pl.camera_position = 'xy'\n",
    "pl.camera.roll = 90\n",
    "pl.enable_anti_aliasing('fxaa')  # also try 'ssaa'\n",
    "pl.show()"
   ]
  },
  {
   "cell_type": "markdown",
   "metadata": {},
   "source": [
    "Volumetric Plot - Visualize High Temperatures\n",
    "=============================================\n",
    "\n",
    "Show a 3D plot of areas of temperature.\n",
    "\n",
    "For this example, we will first sample the results from the\n",
    "`pyvista.UnstructuredGrid`{.interpreted-text role=\"class\"} onto a\n",
    "`pyvista.ImageData`{.interpreted-text role=\"class\"} using\n",
    "`sample() <pyvista.DataSetFilters.sample>`{.interpreted-text\n",
    "role=\"func\"}. This is so we can visualize it using\n",
    "`add_volume() <pyvista.Plotter.add_volume>`{.interpreted-text\n",
    "role=\"func\"}\n"
   ]
  },
  {
   "cell_type": "code",
   "execution_count": 8,
   "metadata": {
    "collapsed": false,
    "jupyter": {
     "outputs_hidden": false
    }
   },
   "outputs": [
    {
     "data": {
      "application/vnd.jupyter.widget-view+json": {
       "model_id": "4b0891fd42604933a0432883decc6e27",
       "version_major": 2,
       "version_minor": 0
      },
      "text/plain": [
       "Widget(value='<iframe src=\"http://localhost:36455/index.html?ui=P_0x7583916b14b0_4&reconnect=auto\" class=\"pyvi…"
      ]
     },
     "metadata": {},
     "output_type": "display_data"
    }
   ],
   "source": [
    "bounds = np.array(air.bounds) * 1.2\n",
    "origin = (bounds[0], bounds[2], bounds[4])\n",
    "spacing = (0.002, 0.002, 0.002)\n",
    "dimensions = (\n",
    "    int((bounds[1] - bounds[0]) // spacing[0] + 2),\n",
    "    int((bounds[3] - bounds[2]) // spacing[1] + 2),\n",
    "    int((bounds[5] - bounds[4]) // spacing[2] + 2),\n",
    ")\n",
    "grid = pv.ImageData(dimensions=dimensions, spacing=spacing, origin=origin)\n",
    "grid = grid.sample(air)\n",
    "\n",
    "opac = np.zeros(20)\n",
    "opac[1:] = np.geomspace(1e-7, 0.1, 19)\n",
    "opac[-5:] = [0.05, 0.1, 0.5, 0.5, 0.5]\n",
    "\n",
    "pl = pv.Plotter()\n",
    "pl.add_mesh(structure, color='w', smooth_shading=True, split_sharp_edges=True)\n",
    "vol = pl.add_volume(\n",
    "    grid,\n",
    "    scalars='T',\n",
    "    opacity=opac,\n",
    "    cmap='autumn_r',\n",
    "    show_scalar_bar=True,\n",
    "    scalar_bar_args={'title': 'Temperature'},\n",
    ")\n",
    "vol.prop.interpolation_type = 'linear'\n",
    "pl.camera.zoom(2)\n",
    "pl.show()"
   ]
  }
 ],
 "metadata": {
  "kernelspec": {
   "display_name": "Python 3 (ipykernel)",
   "language": "python",
   "name": "python3"
  },
  "language_info": {
   "codemirror_mode": {
    "name": "ipython",
    "version": 3
   },
   "file_extension": ".py",
   "mimetype": "text/x-python",
   "name": "python",
   "nbconvert_exporter": "python",
   "pygments_lexer": "ipython3",
   "version": "3.10.12"
  }
 },
 "nbformat": 4,
 "nbformat_minor": 4
}
