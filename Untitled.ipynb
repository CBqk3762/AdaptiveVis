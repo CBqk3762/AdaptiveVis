{
 "cells": [
  {
   "cell_type": "code",
   "execution_count": 1,
   "id": "e39ed413-95ce-490e-95ca-9863cfb06a23",
   "metadata": {},
   "outputs": [
    {
     "name": "stderr",
     "output_type": "stream",
     "text": [
      "/home/cbyers/Projects/Cranfield/AdaptiveVis/dash_env/lib/python3.10/site-packages/dash/dash.py:585: UserWarning:\n",
      "\n",
      "JupyterDash is deprecated, use Dash instead.\n",
      "See https://dash.plotly.com/dash-in-jupyter for more details.\n",
      "\n"
     ]
    },
    {
     "data": {
      "application/vnd.jupyter.widget-view+json": {
       "model_id": "b8fe4b2b9a4d45339f9feb28e34650d7",
       "version_major": 2,
       "version_minor": 0
      },
      "text/plain": [
       "Widget(value='<iframe src=\"http://localhost:40423/index.html?ui=P_0x7b14df16f6a0_0&reconnect=auto\" class=\"pyvi…"
      ]
     },
     "metadata": {},
     "output_type": "display_data"
    },
    {
     "name": "stdout",
     "output_type": "stream",
     "text": [
      "Dash app running on http://127.0.0.1:8050/\n"
     ]
    },
    {
     "data": {
      "text/html": [
       "\n",
       "        <iframe\n",
       "            width=\"100%\"\n",
       "            height=\"650\"\n",
       "            src=\"http://127.0.0.1:8050/\"\n",
       "            frameborder=\"0\"\n",
       "            allowfullscreen\n",
       "            \n",
       "        ></iframe>\n",
       "        "
      ],
      "text/plain": [
       "<IPython.lib.display.IFrame at 0x7b14d8273d30>"
      ]
     },
     "metadata": {},
     "output_type": "display_data"
    }
   ],
   "source": [
    "import pyvista as pv\n",
    "from jupyter_dash import JupyterDash\n",
    "from dash import dcc, html\n",
    "import numpy as np\n",
    "import plotly.io as pio\n",
    "import trame\n",
    "import dash_vtk\n",
    "\n",
    "# Create sample data for visualization (replace with your ParaView output)\n",
    "mesh = pv.Sphere()\n",
    "\n",
    "# Create a function to generate a PyVista plot and save it as an HTML file\n",
    "def create_pyvista_plot():\n",
    "    plotter = pv.Plotter(notebook=True)\n",
    "    plotter.add_mesh(mesh, color='lightblue', show_edges=True)\n",
    "    plotter.view_isometric()\n",
    "    plotter.show()\n",
    "    #plotter.export_html('plot.html')  # Export to an HTML file\n",
    "\n",
    "# Initialize the Dash app\n",
    "app = JupyterDash(__name__)\n",
    "\n",
    "# Define the layout of the dashboard\n",
    "app.layout = html.Div([\n",
    "    html.H1(\"PyVista in Dash\"),\n",
    "    html.Iframe(src='plot.html', style={'width': '100%', 'height': '600px'})  # Embed the HTML file\n",
    "])\n",
    "\n",
    "# Create the plot and export it before running the app\n",
    "create_pyvista_plot()\n",
    "\n",
    "# Run the app\n",
    "#app.run_server(mode='inline')\n",
    "app.run_server(port=8050, debug=True)#mode='external')\n"
   ]
  },
  {
   "cell_type": "code",
   "execution_count": null,
   "id": "99ff6b3b-8a3b-4735-989a-a6682fa0e441",
   "metadata": {},
   "outputs": [],
   "source": []
  }
 ],
 "metadata": {
  "kernelspec": {
   "display_name": "Python 3 (ipykernel)",
   "language": "python",
   "name": "python3"
  },
  "language_info": {
   "codemirror_mode": {
    "name": "ipython",
    "version": 3
   },
   "file_extension": ".py",
   "mimetype": "text/x-python",
   "name": "python",
   "nbconvert_exporter": "python",
   "pygments_lexer": "ipython3",
   "version": "3.10.12"
  }
 },
 "nbformat": 4,
 "nbformat_minor": 5
}
