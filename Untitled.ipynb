{
 "cells": [
  {
   "cell_type": "code",
   "execution_count": 1,
   "id": "caf8a3db-a22b-4187-a6e4-08d57a3000b0",
   "metadata": {},
   "outputs": [],
   "source": [
    "from jupyter_dash import JupyterDash\n",
    "from dash import dcc, html, Input, Output\n",
    "import yfinance as yf \n",
    "import plotly.express as px\n"
   ]
  },
  {
   "cell_type": "code",
   "execution_count": 5,
   "id": "3a3b4055-545a-42ff-a76e-2351085637fa",
   "metadata": {},
   "outputs": [],
   "source": [
    "app = JupyterDash(__name__)\n"
   ]
  },
  {
   "cell_type": "code",
   "execution_count": 6,
   "id": "1b9ecc50-06ec-490a-965f-f7d7da71477e",
   "metadata": {},
   "outputs": [],
   "source": [
    "app.layout = html.Div([\n",
    "\thtml.H1(\"Stock Price Analysis Dashboard\"),\n",
    "\t\n",
    "\thtml.Label(\"Select Stock Symbol:\"),\n",
    "\tdcc.Dropdown(\n",
    "\t\tid='stock-selector',\n",
    "\t\toptions=[\n",
    "\t\t\t{'label': 'AAPL', 'value': 'AAPL'},\n",
    "\t\t\t{'label': 'GOOGL', 'value': 'GOOGL'},\n",
    "\t\t\t{'label': 'MSFT', 'value': 'MSFT'},\n",
    "\t\t],\n",
    "\t\tvalue='AAPL'\n",
    "\t),\n",
    "\t\n",
    "\tdcc.Graph(id='stock-price-chart'),\n",
    "])\n"
   ]
  },
  {
   "cell_type": "code",
   "execution_count": 7,
   "id": "ddf1e3a9-84e8-40f5-ac35-e4b8cb6ca15c",
   "metadata": {},
   "outputs": [],
   "source": [
    "@app.callback(\n",
    "\tOutput('stock-price-chart', 'figure'),\n",
    "\t[Input('stock-selector', 'value')]\n",
    ")\n",
    "def update_chart(selected_stock):\n",
    "\tstock_data = yf.download(selected_stock, start='2022-01-01',\n",
    "\t\t\t\t\t\t\tend='2023-01-01')\n",
    "\tfig = px.line(stock_data, x=stock_data.index, y='Close',\n",
    "\t\t\t\ttitle=f'{selected_stock} Stock Price Analysis')\n",
    "\treturn fig\n"
   ]
  },
  {
   "cell_type": "code",
   "execution_count": 8,
   "id": "ba52c8f5-720c-4956-ad25-4f99894d2df6",
   "metadata": {},
   "outputs": [
    {
     "name": "stdout",
     "output_type": "stream",
     "text": [
      "Dash app running on http://127.0.0.1:8050/"
     ]
    },
    {
     "data": {
      "text/html": [
       "\n",
       "        <iframe\n",
       "            width=\"100%\"\n",
       "            height=\"650\"\n",
       "            src=\"http://127.0.0.1:8050/\"\n",
       "            frameborder=\"0\"\n",
       "            allowfullscreen\n",
       "            \n",
       "        ></iframe>\n",
       "        "
      ],
      "text/plain": [
       "<IPython.lib.display.IFrame at 0x7584246711e0>"
      ]
     },
     "metadata": {},
     "output_type": "display_data"
    },
    {
     "name": "stdout",
     "output_type": "stream",
     "text": [
      "\n"
     ]
    },
    {
     "name": "stderr",
     "output_type": "stream",
     "text": [
      "[*********************100%***********************]  1 of 1 completed\n",
      "[*********************100%***********************]  1 of 1 completed\n"
     ]
    }
   ],
   "source": [
    "if __name__ == '__main__':\n",
    "\tapp.run_server(port=8050, mode='external')\n"
   ]
  },
  {
   "cell_type": "code",
   "execution_count": null,
   "id": "be960c93-72e4-40b9-af3b-a3671816184c",
   "metadata": {},
   "outputs": [],
   "source": []
  }
 ],
 "metadata": {
  "kernelspec": {
   "display_name": "Python 3 (ipykernel)",
   "language": "python",
   "name": "python3"
  },
  "language_info": {
   "codemirror_mode": {
    "name": "ipython",
    "version": 3
   },
   "file_extension": ".py",
   "mimetype": "text/x-python",
   "name": "python",
   "nbconvert_exporter": "python",
   "pygments_lexer": "ipython3",
   "version": "3.10.12"
  }
 },
 "nbformat": 4,
 "nbformat_minor": 5
}
